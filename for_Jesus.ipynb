{
 "cells": [
  {
   "cell_type": "markdown",
   "id": "fb8ad622-4304-411f-992c-0a66ac039635",
   "metadata": {},
   "source": [
    "# Three circumstances\n",
    "\n",
    "1. You're at the first TABLE line\n",
    "\n",
    "2. You're on a non-table line\n",
    "\n",
    "3. You're at a table line after existing tables"
   ]
  },
  {
   "cell_type": "code",
   "execution_count": 4,
   "id": "233910bc-7e59-4ce0-ae1b-952b2bd040f9",
   "metadata": {},
   "outputs": [],
   "source": [
    "header = ['sample', 'current', 'voltage', 'mass']\n",
    "\n",
    "indx_dict = {name:i for i, name in enumerate(header)}"
   ]
  },
  {
   "cell_type": "code",
   "execution_count": 5,
   "id": "2ee063c6-883f-4fff-a5b6-4a5dc318d059",
   "metadata": {},
   "outputs": [
    {
     "data": {
      "text/plain": [
       "{'sample': 0, 'current': 1, 'voltage': 2, 'mass': 3}"
      ]
     },
     "execution_count": 5,
     "metadata": {},
     "output_type": "execute_result"
    }
   ],
   "source": [
    "indx_dict"
   ]
  },
  {
   "cell_type": "code",
   "execution_count": 6,
   "id": "f74eaf79-1a52-445d-b81d-d23cccb01a67",
   "metadata": {},
   "outputs": [
    {
     "name": "stdout",
     "output_type": "stream",
     "text": [
      "[1, 2]\n"
     ]
    },
    {
     "data": {
      "text/plain": [
       "['b', '12', '+']"
      ]
     },
     "execution_count": 6,
     "metadata": {},
     "output_type": "execute_result"
    }
   ],
   "source": [
    "cols = [1, 3, 5]\n",
    "col_names = ['current', 'voltage']\n",
    "cols2 = [indx_dict[name] for name in col_names]\n",
    "print(cols2)\n",
    "line = 'a,b,c,12,5,+\\n'\n",
    "\n",
    "split_line = line.strip().split(',')\n",
    "\n",
    "[split_line[i] for i in cols]"
   ]
  },
  {
   "cell_type": "code",
   "execution_count": null,
   "id": "61866a44-5ff1-4834-b73a-655eb0f91a33",
   "metadata": {},
   "outputs": [],
   "source": [
    "def table_process_function():\n",
    "    'stuff'\n",
    "    return out\n",
    "\n",
    "def line_parsing(columns_of_interest = [1, 5, 7]):\n",
    "    'stuff'\n",
    "    return out\n",
    "\n",
    "\n",
    "file_obj = open()\n",
    "\n",
    "\n",
    "# FOR LOOP FOR PROCESSING HEADER INFORMATION\n",
    "for line in file_obj:\n",
    "    # STUFF I DO FOR THE HEADER\n",
    "    \n",
    "    if TABLE:\n",
    "        break\n",
    "\n",
    "temp_buffer = []\n",
    "processed_tables = {}\n",
    "\n",
    "# FOR LOOP FOR PROCESSING TABLE DATA\n",
    "for line in file_obj:\n",
    "    \n",
    "    # Regular data line\n",
    "    if not TABLE:\n",
    "        line_parsing()\n",
    "        temp_buffer.append()\n",
    "        \n",
    "    # Process full table\n",
    "    elif TABLE and len(temp_buffer) > 0:\n",
    "        done_table = table_process_function(temp_buffer)\n",
    "        processed_tables.append(done_table)\n",
    "        temp_buffer = []\n",
    "    \n",
    "    # Skip first table line (which you might not need to do if you do the header for loop above)\n",
    "    elif TABLE and len(temp_buffer) == 0\n",
    "        continue\n",
    "    \n",
    "    # Any other possible scenario\n",
    "    else:\n",
    "        print(\"Error\")\n",
    "\n",
    "    \n",
    "    temp_buffer.append(parsed_line)"
   ]
  }
 ],
 "metadata": {
  "kernelspec": {
   "display_name": "Python 3 (ipykernel)",
   "language": "python",
   "name": "python3"
  },
  "language_info": {
   "codemirror_mode": {
    "name": "ipython",
    "version": 3
   },
   "file_extension": ".py",
   "mimetype": "text/x-python",
   "name": "python",
   "nbconvert_exporter": "python",
   "pygments_lexer": "ipython3",
   "version": "3.10.8"
  }
 },
 "nbformat": 4,
 "nbformat_minor": 5
}
