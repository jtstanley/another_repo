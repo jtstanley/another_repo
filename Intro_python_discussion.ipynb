{
 "cells": [
  {
   "cell_type": "markdown",
   "id": "1eabf165-2266-46df-ae14-16aa50380d3f",
   "metadata": {
    "jp-MarkdownHeadingCollapsed": true,
    "tags": []
   },
   "source": [
    "# Variable Discussion\n",
    "\n",
    "The below cells are demonstrations of the use of variables. We demonstrated the following types of variables:\n",
    "\n",
    "* int\n",
    "* floats\n",
    "* strings\n",
    "* lists\n",
    "\n",
    "Next we want to talk about a few other things:\n",
    "\n",
    "1. functions\n",
    "2. iterables\n",
    "3. loops"
   ]
  },
  {
   "cell_type": "code",
   "execution_count": 4,
   "id": "c89bc894-8ea5-46ab-bb3b-13c3674bce6c",
   "metadata": {},
   "outputs": [
    {
     "name": "stdout",
     "output_type": "stream",
     "text": [
      "Hello, world!\n"
     ]
    }
   ],
   "source": [
    "print(\"Hello, world!\")"
   ]
  },
  {
   "cell_type": "code",
   "execution_count": 5,
   "id": "522014c7-41ff-44bc-863f-6817a3750ecd",
   "metadata": {},
   "outputs": [],
   "source": [
    "my_variable1 = 2"
   ]
  },
  {
   "cell_type": "code",
   "execution_count": 6,
   "id": "648ed59d-febb-4ce5-ab35-712dfe56f107",
   "metadata": {},
   "outputs": [
    {
     "name": "stdout",
     "output_type": "stream",
     "text": [
      "2\n"
     ]
    }
   ],
   "source": [
    "print(my_variable1)"
   ]
  },
  {
   "cell_type": "code",
   "execution_count": 7,
   "id": "afc8a422-2211-4a20-8c46-e3deb9e54358",
   "metadata": {},
   "outputs": [],
   "source": [
    "hello_string = \"Hello, world!\""
   ]
  },
  {
   "cell_type": "code",
   "execution_count": 8,
   "id": "8fea5220-38d0-44f0-8a68-e4005744b280",
   "metadata": {},
   "outputs": [
    {
     "name": "stdout",
     "output_type": "stream",
     "text": [
      "Hello, world!\n"
     ]
    }
   ],
   "source": [
    "print(hello_string)"
   ]
  },
  {
   "cell_type": "code",
   "execution_count": 9,
   "id": "0edce049-5705-4c35-8845-c41fd9d89091",
   "metadata": {},
   "outputs": [
    {
     "data": {
      "text/plain": [
       "int"
      ]
     },
     "execution_count": 9,
     "metadata": {},
     "output_type": "execute_result"
    }
   ],
   "source": [
    "type(my_variable1)"
   ]
  },
  {
   "cell_type": "code",
   "execution_count": 10,
   "id": "4b6d2c81-86c1-4696-adac-7c41f9f2648d",
   "metadata": {},
   "outputs": [
    {
     "data": {
      "text/plain": [
       "str"
      ]
     },
     "execution_count": 10,
     "metadata": {},
     "output_type": "execute_result"
    }
   ],
   "source": [
    "type(hello_string)"
   ]
  },
  {
   "cell_type": "code",
   "execution_count": 11,
   "id": "c1fc6da0-c412-4c01-984f-5e703028adb3",
   "metadata": {},
   "outputs": [
    {
     "data": {
      "text/plain": [
       "float"
      ]
     },
     "execution_count": 11,
     "metadata": {},
     "output_type": "execute_result"
    }
   ],
   "source": [
    "my_variable2 = 2.0\n",
    "type(my_variable2)"
   ]
  },
  {
   "cell_type": "code",
   "execution_count": 12,
   "id": "cb883658-dfdc-4e37-9aad-d93effc8950b",
   "metadata": {},
   "outputs": [],
   "source": [
    "my_list = [2.0, 1, 'abc', '2']"
   ]
  },
  {
   "cell_type": "code",
   "execution_count": 14,
   "id": "51e2fadb-928a-4c0c-a1ab-e3e002e3f8e7",
   "metadata": {},
   "outputs": [
    {
     "data": {
      "text/plain": [
       "float"
      ]
     },
     "execution_count": 14,
     "metadata": {},
     "output_type": "execute_result"
    }
   ],
   "source": [
    "type(my_list[0])"
   ]
  },
  {
   "cell_type": "code",
   "execution_count": 15,
   "id": "5f05db76-857a-4d2b-b1ae-a7aca7389588",
   "metadata": {},
   "outputs": [
    {
     "data": {
      "text/plain": [
       "list"
      ]
     },
     "execution_count": 15,
     "metadata": {},
     "output_type": "execute_result"
    }
   ],
   "source": [
    "type(my_list)"
   ]
  },
  {
   "cell_type": "code",
   "execution_count": 17,
   "id": "1a5db38f-94b3-4558-b574-3d7239cd6bed",
   "metadata": {},
   "outputs": [],
   "source": [
    "my_tuple = (2.0, 1, 'abc', '2')"
   ]
  },
  {
   "cell_type": "code",
   "execution_count": 19,
   "id": "37dab168-c3d4-4255-98c0-81b31f473a0e",
   "metadata": {},
   "outputs": [
    {
     "data": {
      "text/plain": [
       "True"
      ]
     },
     "execution_count": 19,
     "metadata": {},
     "output_type": "execute_result"
    }
   ],
   "source": [
    "my_tuple[0] == my_list[0]"
   ]
  },
  {
   "cell_type": "code",
   "execution_count": 20,
   "id": "d4eeb6f4-1e49-4953-bc15-8aa5d05af424",
   "metadata": {},
   "outputs": [
    {
     "data": {
      "text/plain": [
       "False"
      ]
     },
     "execution_count": 20,
     "metadata": {},
     "output_type": "execute_result"
    }
   ],
   "source": [
    "my_tuple == my_list"
   ]
  },
  {
   "cell_type": "markdown",
   "id": "8eea06ed-f2f8-448a-a58b-34e2ccc789c2",
   "metadata": {
    "jp-MarkdownHeadingCollapsed": true,
    "tags": []
   },
   "source": [
    "# Function Discussion\n",
    "\n",
    "Here in this next section we will demonstrate the use of functions."
   ]
  },
  {
   "cell_type": "code",
   "execution_count": 35,
   "id": "86b18545-1653-47f4-81d3-cef662458a80",
   "metadata": {},
   "outputs": [],
   "source": [
    "# Here we are going to write a function that takes two number \n",
    "# and checks whether or not they are equal to within some precision.\n",
    "\n",
    "def check_equal(num1, num2, precision):\n",
    "    \n",
    "    abs_difference = abs(num1 - num2)\n",
    "    is_equal = abs_difference <= precision\n",
    "    \n",
    "    return is_equal"
   ]
  },
  {
   "cell_type": "code",
   "execution_count": 29,
   "id": "d57fe501-21da-4f18-85f1-d2de7c6e771b",
   "metadata": {},
   "outputs": [
    {
     "data": {
      "text/plain": [
       "False"
      ]
     },
     "execution_count": 29,
     "metadata": {},
     "output_type": "execute_result"
    }
   ],
   "source": [
    "check_equal(2.0, 2.1, 0.001)"
   ]
  },
  {
   "cell_type": "code",
   "execution_count": 30,
   "id": "05cfb812-8fc7-4521-bf87-3ebcb2475f94",
   "metadata": {},
   "outputs": [
    {
     "data": {
      "text/plain": [
       "True"
      ]
     },
     "execution_count": 30,
     "metadata": {},
     "output_type": "execute_result"
    }
   ],
   "source": [
    "check_equal(2.0, 2.1, 0.5)"
   ]
  },
  {
   "cell_type": "markdown",
   "id": "8dbc8f4c-f530-4a60-b1bd-207540f0af37",
   "metadata": {
    "jp-MarkdownHeadingCollapsed": true,
    "tags": []
   },
   "source": [
    "# Imports Discussion\n",
    "\n",
    "Here we will demonstrate the benefit of importing other libraries. The libraries we will discuss are:\n",
    "\n",
    "1. numpy\n",
    "2. sys"
   ]
  },
  {
   "cell_type": "code",
   "execution_count": 31,
   "id": "7003422f-4421-4138-aa80-012a348a3a49",
   "metadata": {},
   "outputs": [],
   "source": [
    "import numpy"
   ]
  },
  {
   "cell_type": "code",
   "execution_count": 33,
   "id": "8e36cc90-a21a-4a64-88b4-f89954d1ef36",
   "metadata": {},
   "outputs": [
    {
     "data": {
      "text/plain": [
       "True"
      ]
     },
     "execution_count": 33,
     "metadata": {},
     "output_type": "execute_result"
    }
   ],
   "source": [
    "numpy.isclose(2.0, 2.1, rtol=0.3)"
   ]
  },
  {
   "cell_type": "code",
   "execution_count": 34,
   "id": "b2415c78-c66a-4bde-a893-78cdea569845",
   "metadata": {},
   "outputs": [
    {
     "data": {
      "text/plain": [
       "True"
      ]
     },
     "execution_count": 34,
     "metadata": {},
     "output_type": "execute_result"
    }
   ],
   "source": [
    "import numpy as np\n",
    "\n",
    "np.isclose(2.0, 2.1, rtol=0.3)"
   ]
  },
  {
   "cell_type": "code",
   "execution_count": 38,
   "id": "cefb6feb-ce15-4904-a324-7fb4ffb1010c",
   "metadata": {},
   "outputs": [],
   "source": [
    "# Here I'm going to try importing my new utils file contents\n",
    "\n",
    "import utils\n",
    "import utils as ut\n",
    "from utils import check_equal"
   ]
  },
  {
   "cell_type": "code",
   "execution_count": 40,
   "id": "93ca270e-5a2b-4369-afb1-21f725d3329c",
   "metadata": {},
   "outputs": [
    {
     "name": "stdout",
     "output_type": "stream",
     "text": [
      "False\n",
      "False\n",
      "False\n"
     ]
    }
   ],
   "source": [
    "print(utils.check_equal(2.0, 2.1, 0.1))\n",
    "print(ut.check_equal(2.0, 2.1, 0.1))\n",
    "print(check_equal(2.0, 2.1, 0.1))"
   ]
  },
  {
   "cell_type": "markdown",
   "id": "ceb9635f-b3e2-46b7-9778-788e3e53efdb",
   "metadata": {
    "jp-MarkdownHeadingCollapsed": true,
    "tags": []
   },
   "source": [
    "# Iterables and Loops Discussion\n",
    "\n",
    "Here we're going to cover the all mighty for-loop."
   ]
  },
  {
   "cell_type": "code",
   "execution_count": 45,
   "id": "f3b4d959-4a71-4b92-bbcf-a2a9fd1d3c00",
   "metadata": {},
   "outputs": [
    {
     "name": "stdout",
     "output_type": "stream",
     "text": [
      "0\n",
      "1\n",
      "3\n",
      "6\n",
      "10\n",
      "15\n",
      "21\n",
      "28\n",
      "7\n"
     ]
    }
   ],
   "source": [
    "my_list = [1, 2, 3, 4, 5, 6, 7]\n",
    "\n",
    "total_sum = 0\n",
    "\n",
    "for elem in my_list:\n",
    "    print(total_sum)\n",
    "    total_sum = total_sum + elem\n",
    "    \n",
    "print(total_sum)\n",
    "\n",
    "print(elem)"
   ]
  },
  {
   "cell_type": "markdown",
   "id": "bab28d11-1f9d-42c0-8319-6fb32c76f4a5",
   "metadata": {},
   "source": [
    "# If-else Discussion"
   ]
  },
  {
   "cell_type": "markdown",
   "id": "abd5fc63-56df-4e04-a91f-616bcc4d0a66",
   "metadata": {},
   "source": [
    "# String parsing"
   ]
  },
  {
   "cell_type": "markdown",
   "id": "0505935f-4cfb-402b-b345-e25fedd3c441",
   "metadata": {
    "tags": []
   },
   "source": [
    "# File Reading Discussion"
   ]
  },
  {
   "cell_type": "markdown",
   "id": "7319089c-263f-4a40-af03-903aaf40381b",
   "metadata": {},
   "source": [
    "# Command line variables"
   ]
  },
  {
   "cell_type": "code",
   "execution_count": null,
   "id": "0123f5c8-b16a-4fc9-a1fa-e5ce4091f5b5",
   "metadata": {},
   "outputs": [],
   "source": []
  }
 ],
 "metadata": {
  "kernelspec": {
   "display_name": "Python 3 (ipykernel)",
   "language": "python",
   "name": "python3"
  },
  "language_info": {
   "codemirror_mode": {
    "name": "ipython",
    "version": 3
   },
   "file_extension": ".py",
   "mimetype": "text/x-python",
   "name": "python",
   "nbconvert_exporter": "python",
   "pygments_lexer": "ipython3",
   "version": "3.10.8"
  }
 },
 "nbformat": 4,
 "nbformat_minor": 5
}
